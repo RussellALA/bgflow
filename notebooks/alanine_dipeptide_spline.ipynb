{
 "cells": [
  {
   "cell_type": "markdown",
   "id": "4610263e",
   "metadata": {},
   "source": [
    "# Alanine Dipeptide Example with High-Level Builder API\n",
    "\n",
    "This tutorial improves on the basic alanine example in various ways:\n",
    "\n",
    "1. It uses neural spline transforms, which are much more expressive than affine transforms. These are implemented in the third-party package `nflows`. You need to `pip install nflows` into your conda environment in order to run this notebook.\n",
    "\n",
    "2. It respects the domains of the ICs and the periodicity of torsions.\n",
    "\n",
    "3. It transforms internal coordinates in a physics-informed manner. Concretely, the \"slow\" degrees of freedom, torsions and \"fixed atoms\", are generated first. Angles and bonds are conditioned on these slow degrees of freedom and added later in an autoregressive manner.\n",
    "\n",
    "All that stuff happens under the hood of a high-level builder API."
   ]
  },
  {
   "cell_type": "code",
   "execution_count": 1,
   "id": "bd4717c9",
   "metadata": {},
   "outputs": [
    {
     "name": "stderr",
     "output_type": "stream",
     "text": [
      "/home/henrik/miniforge3/envs/bgflow/lib/python3.8/site-packages/tqdm/auto.py:21: TqdmWarning: IProgress not found. Please update jupyter and ipywidgets. See https://ipywidgets.readthedocs.io/en/stable/user_install.html\n",
      "  from .autonotebook import tqdm as notebook_tqdm\n",
      "Warning on use of the timeseries module: If the inherent timescales of the system are long compared to those being analyzed, this statistical inefficiency may be an underestimate.  The estimate presumes the use of many statistically independent samples.  Tests should be performed to assess whether this condition is satisfied.   Be cautious in the interpretation of the data.\n",
      "\n",
      "****** PyMBAR will use 64-bit JAX! *******\n",
      "* JAX is currently set to 32-bit bitsize *\n",
      "* which is its default.                  *\n",
      "*                                        *\n",
      "* PyMBAR requires 64-bit mode and WILL   *\n",
      "* enable JAX's 64-bit mode when called.  *\n",
      "*                                        *\n",
      "* This MAY cause problems with other     *\n",
      "* Uses of JAX in the same code.          *\n",
      "******************************************\n",
      "\n"
     ]
    },
    {
     "name": "stdout",
     "output_type": "stream",
     "text": [
      "Downloading http://ftp.mi.fu-berlin.de/pub/cmb-data/bgmol/systems/ala2/alanine-dipeptide-nowater.pdb to /tmp/alanine-dipeptide-nowater.pdb\n"
     ]
    },
    {
     "name": "stderr",
     "output_type": "stream",
     "text": [
      "2048it [00:00, 13174746.31it/s]         \n"
     ]
    }
   ],
   "source": [
    "import alanine_dipeptide_basics as basic\n",
    "import torch\n",
    "import bgflow as bg"
   ]
  },
  {
   "cell_type": "code",
   "execution_count": 2,
   "id": "bfe5763c",
   "metadata": {},
   "outputs": [],
   "source": [
    "# a brief check if this module is the main executable (or imported)\n",
    "main = (__name__ == \"__main__\")"
   ]
  },
  {
   "cell_type": "markdown",
   "id": "b349b8f7",
   "metadata": {},
   "source": [
    "## Define Boltzmann Generator"
   ]
  },
  {
   "cell_type": "markdown",
   "id": "2c18b000",
   "metadata": {},
   "source": [
    "Parse the prior dimensions etc. from the coordinate transform."
   ]
  },
  {
   "cell_type": "code",
   "execution_count": 3,
   "id": "3180d500",
   "metadata": {},
   "outputs": [],
   "source": [
    "#constrained_bonds = "
   ]
  },
  {
   "cell_type": "code",
   "execution_count": 3,
   "id": "b5743c32",
   "metadata": {},
   "outputs": [
    {
     "name": "stdout",
     "output_type": "stream",
     "text": [
      "ShapeDictionary([(TensorInfo(name='BONDS', is_circular=False, is_cartesian=False), (17,)), (TensorInfo(name='ANGLES', is_circular=False, is_cartesian=False), (17,)), (TensorInfo(name='TORSIONS', is_circular=True, is_cartesian=False), (17,)), (TensorInfo(name='FIXED', is_circular=False, is_cartesian=True), (9,))])\n"
     ]
    }
   ],
   "source": [
    "shape_info = bg.ShapeDictionary.from_coordinate_transform(\n",
    "    basic.coordinate_transform, #n_constraints=\n",
    ")\n",
    "print(shape_info)"
   ]
  },
  {
   "cell_type": "code",
   "execution_count": 4,
   "id": "dca01715",
   "metadata": {},
   "outputs": [],
   "source": [
    "builder = bg.BoltzmannGeneratorBuilder(\n",
    "    shape_info, \n",
    "    target=basic.target_energy, \n",
    "    device=basic.device, \n",
    "    dtype=basic.dtype\n",
    ")"
   ]
  },
  {
   "cell_type": "markdown",
   "id": "625b6898",
   "metadata": {},
   "source": [
    "The builder class uses reasonable default choices for the transforms and conditioner networks but it's customizable. If you want to tinker with the settings, take a look at the documentation.\n",
    "\n",
    "For example each `add_condition` call can take various keyword arguments that specify the depth and width of the conditioner network, the transformer type, etc. To change the dimension and number of hidden layers in a conditioner, try something like `builder.add_condition(TORSION, on=FIXED, hidden=(32,64,32))`."
   ]
  },
  {
   "cell_type": "code",
   "execution_count": 5,
   "id": "7580399a",
   "metadata": {},
   "outputs": [],
   "source": [
    "from bgflow import TORSIONS, FIXED, BONDS, ANGLES"
   ]
  },
  {
   "cell_type": "code",
   "execution_count": 6,
   "id": "3cef0706",
   "metadata": {},
   "outputs": [
    {
     "name": "stderr",
     "output_type": "stream",
     "text": [
      "/home/henrik/miniforge3/envs/bgflow/lib/python3.8/site-packages/bgflow-0.3.0+19.gfbba56f-py3.8.egg/bgflow/nn/flow/transformer/spline.py:80: UserWarning: your nflows version does not support 'enable_identity_init'.See https://github.com/bayesiains/nflows/pull/65\n"
     ]
    }
   ],
   "source": [
    "for i in range(4):\n",
    "    builder.add_condition(TORSIONS, on=FIXED)\n",
    "    builder.add_condition(FIXED, on=TORSIONS)\n",
    "\n",
    "for i in range(2):\n",
    "    builder.add_condition(BONDS, on=ANGLES)\n",
    "    builder.add_condition(ANGLES, on=BONDS)\n",
    "builder.add_map_to_ic_domains()\n",
    "builder.add_map_to_cartesian(basic.coordinate_transform)\n",
    "generator = builder.build_generator()"
   ]
  },
  {
   "cell_type": "code",
   "execution_count": 7,
   "id": "4020e753",
   "metadata": {},
   "outputs": [
    {
     "data": {
      "text/plain": [
       "tensor([[2050308.2500],\n",
       "        [ 428747.9375],\n",
       "        [ 575397.8750],\n",
       "        [ 406216.6875],\n",
       "        [ 221212.6875],\n",
       "        [ 730454.0625],\n",
       "        [ 776362.2500],\n",
       "        [1096000.8750],\n",
       "        [ 858687.5625],\n",
       "        [ 865580.5625]], device='cuda:0', grad_fn=<SubBackward0>)"
      ]
     },
     "execution_count": 7,
     "metadata": {},
     "output_type": "execute_result"
    }
   ],
   "source": [
    "# TEST\n",
    "# play forward and backward\n",
    "samples = generator.sample(2)\n",
    "energy = generator.energy(samples)\n",
    "generator.kldiv(10)"
   ]
  },
  {
   "cell_type": "markdown",
   "id": "89e571f5",
   "metadata": {},
   "source": [
    "## Train"
   ]
  },
  {
   "cell_type": "code",
   "execution_count": 8,
   "id": "f33c3d77",
   "metadata": {},
   "outputs": [],
   "source": [
    "nll_optimizer = torch.optim.Adam(generator.parameters(), lr=1e-3)\n",
    "nll_trainer = bg.KLTrainer(\n",
    "    generator, \n",
    "    optim=nll_optimizer,\n",
    "    train_energy=False\n",
    ")"
   ]
  },
  {
   "cell_type": "code",
   "execution_count": 9,
   "id": "0fc346f7",
   "metadata": {},
   "outputs": [
    {
     "name": "stdout",
     "output_type": "stream",
     "text": [
      "1\tNLL: -13.6515\t\n",
      "101\tNLL: -189.1053\t\n",
      "201\tNLL: -189.9714\t\n",
      "301\tNLL: -190.7881\t\n",
      "401\tNLL: -190.7168\t\n",
      "501\tNLL: -191.0468\t\n",
      "601\tNLL: -190.7855\t\n",
      "701\tNLL: -191.9453\t\n",
      "801\tNLL: -192.2804\t\n",
      "901\tNLL: -192.3651\t\n"
     ]
    }
   ],
   "source": [
    "if main:\n",
    "    nll_trainer.train(\n",
    "        n_iter=1000, \n",
    "        data=basic.training_data,\n",
    "        batchsize=128,\n",
    "        n_print=100, \n",
    "        w_energy=0.0\n",
    "    )"
   ]
  },
  {
   "cell_type": "markdown",
   "id": "4ff998e3",
   "metadata": {},
   "source": [
    "# Save and Load"
   ]
  },
  {
   "cell_type": "code",
   "execution_count": 11,
   "id": "def7c260",
   "metadata": {},
   "outputs": [],
   "source": [
    "#torch.save(generator.state_dict(), \"saved_model.pt\")"
   ]
  },
  {
   "cell_type": "code",
   "execution_count": 12,
   "id": "7fd32651",
   "metadata": {},
   "outputs": [],
   "source": [
    "#generator.load_state_dict(torch.load(\"saved_model.pt\"))"
   ]
  },
  {
   "cell_type": "markdown",
   "id": "a123ffb2",
   "metadata": {},
   "source": [
    "## Plot"
   ]
  },
  {
   "cell_type": "code",
   "execution_count": 10,
   "id": "2a157794",
   "metadata": {},
   "outputs": [],
   "source": [
    "from matplotlib import pyplot as plt"
   ]
  },
  {
   "cell_type": "code",
   "execution_count": 11,
   "id": "74b9fa0c",
   "metadata": {},
   "outputs": [
    {
     "name": "stderr",
     "output_type": "stream",
     "text": [
      "/home/henrik/miniforge3/envs/bgflow/lib/python3.8/site-packages/bgflow-0.3.0+19.gfbba56f-py3.8.egg/bgflow/nn/flow/crd_transform/ic_helper.py:283: UserWarning: singular division in torsion computation\n"
     ]
    },
    {
     "name": "stdout",
     "output_type": "stream",
     "text": [
      "Sampling Efficiency:  0.000332265452016145\n"
     ]
    },
    {
     "data": {
      "image/png": "[encoded data removed]",
      "text/plain": [
       "<Figure size 600x300 with 3 Axes>"
      ]
     },
     "metadata": {},
     "output_type": "display_data"
    }
   ],
   "source": [
    "if main:\n",
    "    \n",
    "    n_samples = 10000\n",
    "    samples = generator.sample(n_samples)\n",
    "\n",
    "    fig, axes = plt.subplots(1, 2, figsize=(6,3))\n",
    "    fig.tight_layout()\n",
    "\n",
    "    basic.plot_phi_psi(axes[0], samples, basic.system)\n",
    "    basic.plot_energies(axes[1], samples, basic.target_energy, basic.test_data)\n",
    "\n",
    "    logw = generator.log_weights(samples)\n",
    "    print(\"Sampling Efficiency: \",  bg.sampling_efficiency(logw).item())\n",
    "    del samples"
   ]
  },
  {
   "cell_type": "code",
   "execution_count": 13,
   "id": "6b21cc31",
   "metadata": {},
   "outputs": [
    {
     "ename": "ModuleNotFoundError",
     "evalue": "No module named 'nglview'",
     "output_type": "error",
     "traceback": [
      "\u001b[0;31m---------------------------------------------------------------------------\u001b[0m",
      "\u001b[0;31mModuleNotFoundError\u001b[0m                       Traceback (most recent call last)",
      "\u001b[1;32m/home/henrik/Dokumente/Promotion/software/bgflow/notebooks/alanine_dipeptide_spline.ipynb Cell 22\u001b[0m line \u001b[0;36m1\n\u001b[0;32m----> <a href='vscode-notebook-cell:/home/henrik/Dokumente/Promotion/software/bgflow/notebooks/alanine_dipeptide_spline.ipynb#X30sZmlsZQ%3D%3D?line=0'>1</a>\u001b[0m \u001b[39mimport\u001b[39;00m \u001b[39mnglview\u001b[39;00m \u001b[39mas\u001b[39;00m \u001b[39mnv\u001b[39;00m\n\u001b[1;32m      <a href='vscode-notebook-cell:/home/henrik/Dokumente/Promotion/software/bgflow/notebooks/alanine_dipeptide_spline.ipynb#X30sZmlsZQ%3D%3D?line=1'>2</a>\u001b[0m \u001b[39mimport\u001b[39;00m \u001b[39mmdtraj\u001b[39;00m \u001b[39mas\u001b[39;00m \u001b[39mmd\u001b[39;00m\n\u001b[1;32m      <a href='vscode-notebook-cell:/home/henrik/Dokumente/Promotion/software/bgflow/notebooks/alanine_dipeptide_spline.ipynb#X30sZmlsZQ%3D%3D?line=3'>4</a>\u001b[0m xyz \u001b[39m=\u001b[39m generator\u001b[39m.\u001b[39msample(\u001b[39m1000\u001b[39m)\u001b[39m.\u001b[39mdetach()\u001b[39m.\u001b[39mcpu()\u001b[39m.\u001b[39mnumpy()\u001b[39m.\u001b[39mreshape(\u001b[39m1000\u001b[39m, \u001b[39m-\u001b[39m\u001b[39m1\u001b[39m, \u001b[39m3\u001b[39m)\n",
      "\u001b[0;31mModuleNotFoundError\u001b[0m: No module named 'nglview'"
     ]
    }
   ],
   "source": [
    "import nglview as nv\n",
    "import mdtraj as md\n",
    "\n",
    "xyz = generator.sample(1000).detach().cpu().numpy().reshape(1000, -1, 3)\n",
    "#xyz = basic.dataset.xyz[:1000]\n",
    "\n",
    "traj = md.Trajectory(\n",
    "    xyz,\n",
    "    topology=basic.dataset.system.mdtraj_topology\n",
    ")\n"
   ]
  },
  {
   "cell_type": "code",
   "execution_count": 12,
   "id": "0af33018",
   "metadata": {},
   "outputs": [
    {
     "ename": "NameError",
     "evalue": "name 'xyz' is not defined",
     "output_type": "error",
     "traceback": [
      "\u001b[0;31m---------------------------------------------------------------------------\u001b[0m",
      "\u001b[0;31mNameError\u001b[0m                                 Traceback (most recent call last)",
      "\u001b[1;32m/home/henrik/Dokumente/Promotion/software/bgflow/notebooks/alanine_dipeptide_spline.ipynb Cell 23\u001b[0m line \u001b[0;36m1\n\u001b[0;32m----> <a href='vscode-notebook-cell:/home/henrik/Dokumente/Promotion/software/bgflow/notebooks/alanine_dipeptide_spline.ipynb#X31sZmlsZQ%3D%3D?line=0'>1</a>\u001b[0m xyz\u001b[39m.\u001b[39mshape\n",
      "\u001b[0;31mNameError\u001b[0m: name 'xyz' is not defined"
     ]
    }
   ],
   "source": [
    "xyz.shape"
   ]
  },
  {
   "cell_type": "code",
   "execution_count": 13,
   "id": "7c82ff74",
   "metadata": {},
   "outputs": [
    {
     "data": {
      "application/vnd.jupyter.widget-view+json": {
       "model_id": "9f64df71498140f3bb477580f3c298af",
       "version_major": 2,
       "version_minor": 0
      },
      "text/plain": [
       "NGLWidget(max_frame=999)"
      ]
     },
     "metadata": {},
     "output_type": "display_data"
    }
   ],
   "source": [
    "nv.show_mdtraj(traj)"
   ]
  },
  {
   "cell_type": "code",
   "execution_count": null,
   "id": "dfad3684",
   "metadata": {},
   "outputs": [],
   "source": []
  }
 ],
 "metadata": {
  "kernelspec": {
   "display_name": "Python 3 (ipykernel)",
   "language": "python",
   "name": "python3"
  },
  "language_info": {
   "codemirror_mode": {
    "name": "ipython",
    "version": 3
   },
   "file_extension": ".py",
   "mimetype": "text/x-python",
   "name": "python",
   "nbconvert_exporter": "python",
   "pygments_lexer": "ipython3",
   "version": "3.8.19"
  }
 },
 "nbformat": 4,
 "nbformat_minor": 5
}
